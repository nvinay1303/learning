{
 "cells": [
  {
   "cell_type": "code",
   "execution_count": 9,
   "id": "a9d4836a",
   "metadata": {},
   "outputs": [
    {
     "name": "stdout",
     "output_type": "stream",
     "text": [
      "Indices of numbers that sum to 12: []\n"
     ]
    }
   ],
   "source": [
    "# Leetcode twosum problem\n",
    "nums = [1, 2, 3, 4, 5, 6]\n",
    "target = 12\n",
    "i=0\n",
    "num = []\n",
    "indices = []\n",
    "while i < len(nums) - 1:\n",
    "    if nums[i] + nums[i+1] == target:\n",
    "        indices.append(i)\n",
    "        indices.append(i+1)\n",
    "        break\n",
    "    elif i == len(nums) - 2:\n",
    "        indices = []\n",
    "        break\n",
    "    else:\n",
    "        i += 1\n",
    "\n",
    "print(f'Indices of numbers that sum to {target}: {indices}')"
   ]
  },
  {
   "cell_type": "code",
   "execution_count": 10,
   "id": "766dcd08",
   "metadata": {},
   "outputs": [
    {
     "name": "stdout",
     "output_type": "stream",
     "text": [
      "Merged word: paqbcdefgh\n"
     ]
    }
   ],
   "source": [
    "# Leetcode 1768: Merge Strings Alternately\n",
    "word1 = 'pq'\n",
    "word2 = 'abcdefgh'\n",
    "\n",
    "word = ''\n",
    "\n",
    "length = min(len(word1), len(word2))\n",
    "for i in range(0, length):\n",
    "    word = word + (word1[i] + word2[i])\n",
    "if(len(word1)>len(word2)):\n",
    "    word = word + word1[length:]\n",
    "else:\n",
    "    word = word + word2[length:]\n",
    "\n",
    "print(f'Merged word: {word}')  "
   ]
  },
  {
   "cell_type": "code",
   "execution_count": null,
   "id": "226a7949",
   "metadata": {},
   "outputs": [],
   "source": []
  }
 ],
 "metadata": {
  "kernelspec": {
   "display_name": ".venv",
   "language": "python",
   "name": "python3"
  },
  "language_info": {
   "codemirror_mode": {
    "name": "ipython",
    "version": 3
   },
   "file_extension": ".py",
   "mimetype": "text/x-python",
   "name": "python",
   "nbconvert_exporter": "python",
   "pygments_lexer": "ipython3",
   "version": "3.13.2"
  }
 },
 "nbformat": 4,
 "nbformat_minor": 5
}
